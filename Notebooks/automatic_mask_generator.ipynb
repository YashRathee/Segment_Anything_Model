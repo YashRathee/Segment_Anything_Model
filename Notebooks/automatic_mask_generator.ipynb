{
  "cells": [
    {
      "cell_type": "markdown",
      "metadata": {
        "id": "7QuaGU0jfWzt"
      },
      "source": [
        "## Install dependencies\n",
        "\n",
        "Uncomment and run the following cell to install the required dependencies."
      ]
    },
    {
      "cell_type": "code",
      "execution_count": null,
      "metadata": {
        "id": "oPCzspQHfWzt"
      },
      "outputs": [],
      "source": [
        "%pip install segment-geospatial leafmap localtileserver"
      ]
    },
    {
      "cell_type": "code",
      "execution_count": null,
      "metadata": {
        "id": "O_clZ9x1fWzv"
      },
      "outputs": [],
      "source": [
        "import os\n",
        "import leafmap\n",
        "from samgeo import SamGeo, show_image, download_file, overlay_images, tms_to_geotiff"
      ]
    },
    {
      "cell_type": "markdown",
      "metadata": {
        "id": "jhI0BN5IfWzv"
      },
      "source": [
        "## Create an interactive map"
      ]
    },
    {
      "cell_type": "code",
      "execution_count": null,
      "metadata": {
        "id": "NXa8H8FWfWzw"
      },
      "outputs": [],
      "source": [
        "m = leafmap.Map(center=[37.8713, -122.2580], zoom=17, height=\"800px\")\n",
        "m.add_basemap(\"SATELLITE\")\n",
        "m"
      ]
    },
    {
      "cell_type": "markdown",
      "metadata": {
        "id": "MD6qe8aUfWzw"
      },
      "source": [
        "\n",
        "Pan and zoom the map to select the area of interest. Use the draw tools to draw a polygon or rectangle on the map"
      ]
    },
    {
      "cell_type": "code",
      "execution_count": null,
      "metadata": {
        "id": "iE3cY3StfWzx"
      },
      "outputs": [],
      "source": [
        "if m.user_roi_bounds() is not None:\n",
        "    bbox = m.user_roi_bounds()\n",
        "else:\n",
        "    bbox = [-122.2659, 37.8682, -122.2521, 37.8741]"
      ]
    },
    {
      "cell_type": "markdown",
      "metadata": {
        "id": "jmB1izB-fWzx"
      },
      "source": [
        "## Download a sample image"
      ]
    },
    {
      "cell_type": "code",
      "execution_count": null,
      "metadata": {
        "id": "CMYYoo7FfWzx"
      },
      "outputs": [],
      "source": [
        "image = \"satellite.tif\"\n",
        "tms_to_geotiff(output=image, bbox=bbox, zoom=17, source=\"Satellite\", overwrite=True)"
      ]
    },
    {
      "cell_type": "markdown",
      "metadata": {
        "id": "C_T_n6XSfWzy"
      },
      "source": [
        "You can also use your own image. Uncomment and run the following cell to use your own image."
      ]
    },
    {
      "cell_type": "code",
      "execution_count": null,
      "metadata": {
        "id": "NjIFRnXKfWzy"
      },
      "outputs": [],
      "source": [
        "# image = '/path/to/your/own/image.tif'"
      ]
    },
    {
      "cell_type": "markdown",
      "metadata": {
        "id": "okIXaYn9fWzy"
      },
      "source": [
        "Display the downloaded image on the map."
      ]
    },
    {
      "cell_type": "code",
      "execution_count": null,
      "metadata": {
        "id": "l_0UxmWRfWzy"
      },
      "outputs": [],
      "source": [
        "m.layers[-1].visible = False\n",
        "m.add_raster(image, layer_name=\"Image\")\n",
        "m"
      ]
    },
    {
      "cell_type": "markdown",
      "metadata": {
        "id": "7pDBBxN4fWzz"
      },
      "source": [
        "## Initialize SAM class\n",
        "\n",
        "Specify the file path to the model checkpoint. If it is not specified, the model will to downloaded to the working directory."
      ]
    },
    {
      "cell_type": "code",
      "execution_count": null,
      "metadata": {
        "id": "gWbll6vWfWzz"
      },
      "outputs": [],
      "source": [
        "sam = SamGeo(\n",
        "    model_type=\"vit_h\",\n",
        "    checkpoint='sam_vit_h_4b8939.pth',\n",
        "    sam_kwargs=None,\n",
        ")"
      ]
    },
    {
      "cell_type": "markdown",
      "metadata": {
        "id": "9gEdpFHgfWzz"
      },
      "source": [
        "## Automatic mask generation\n",
        "\n",
        "Segment the image and save the results to a GeoTIFF file. Set `unique=True` to assign a unique ID to each object."
      ]
    },
    {
      "cell_type": "code",
      "execution_count": null,
      "metadata": {
        "id": "VHB8W-E1fWzz"
      },
      "outputs": [],
      "source": [
        "sam.generate(image, output=\"masks.tif\", foreground=True, unique=True)"
      ]
    },
    {
      "cell_type": "code",
      "execution_count": null,
      "metadata": {
        "id": "9_zL5o0MfWz0"
      },
      "outputs": [],
      "source": [
        "sam.show_masks(cmap=\"binary_r\")"
      ]
    },
    {
      "cell_type": "markdown",
      "metadata": {
        "id": "a-gOFYgyfWz0"
      },
      "source": [
        "Show the object annotations (objects with random color) on the map."
      ]
    },
    {
      "cell_type": "code",
      "execution_count": null,
      "metadata": {
        "id": "7sw4nRMqfWz0"
      },
      "outputs": [],
      "source": [
        "sam.show_anns(axis=\"off\", alpha=1, output=\"annotations.tif\")"
      ]
    },
    {
      "cell_type": "markdown",
      "metadata": {
        "id": "P7k0HxaifWz0"
      },
      "source": [
        "Compare images with a slider."
      ]
    },
    {
      "cell_type": "code",
      "execution_count": null,
      "metadata": {
        "id": "BX_LP_4QfWz1"
      },
      "outputs": [],
      "source": [
        "leafmap.image_comparison(\n",
        "    \"satellite.tif\",\n",
        "    \"annotations.tif\",\n",
        "    label1=\"Satellite Image\",\n",
        "    label2=\"Image Segmentation\",\n",
        ")"
      ]
    },
    {
      "cell_type": "markdown",
      "metadata": {
        "id": "barVfYmIfWz1"
      },
      "source": [
        "Add image to the map."
      ]
    },
    {
      "cell_type": "code",
      "execution_count": null,
      "metadata": {
        "id": "Fg8pWrCffWz1"
      },
      "outputs": [],
      "source": [
        "m.add_raster(\"annotations.tif\", alpha=0.5, layer_name=\"Masks\")\n",
        "m"
      ]
    },
    {
      "cell_type": "markdown",
      "metadata": {
        "id": "9FNyKHy_fWz2"
      },
      "source": [
        "Convert the object annotations to vector format, such as GeoPackage, Shapefile, or GeoJSON."
      ]
    },
    {
      "cell_type": "code",
      "execution_count": null,
      "metadata": {
        "id": "gtvgC1KpfWz2"
      },
      "outputs": [],
      "source": [
        "sam.tiff_to_vector(\"masks.tif\", \"masks.gpkg\")"
      ]
    },
    {
      "cell_type": "code",
      "execution_count": null,
      "metadata": {
        "id": "YSy1seBNfWz3"
      },
      "outputs": [],
      "source": [
        "sam_kwargs = {\n",
        "    \"points_per_side\": 32,\n",
        "    \"pred_iou_thresh\": 0.86,\n",
        "    \"stability_score_thresh\": 0.92,\n",
        "    \"crop_n_layers\": 1,\n",
        "    \"crop_n_points_downscale_factor\": 2,\n",
        "    \"min_mask_region_area\": 100,\n",
        "}"
      ]
    },
    {
      "cell_type": "code",
      "execution_count": null,
      "metadata": {
        "id": "OiX0UCuDfWz4"
      },
      "outputs": [],
      "source": [
        "sam = SamGeo(\n",
        "    model_type=\"vit_h\",\n",
        "    checkpoint=checkpoint,\n",
        "    sam_kwargs=sam_kwargs,\n",
        ")"
      ]
    },
    {
      "cell_type": "code",
      "execution_count": null,
      "metadata": {
        "id": "z3A8Dy0OfWz4"
      },
      "outputs": [],
      "source": [
        "sam.generate(image, output=\"masks2.tif\", foreground=True)"
      ]
    },
    {
      "cell_type": "code",
      "execution_count": null,
      "metadata": {
        "id": "Kc3DKzb8fWz4"
      },
      "outputs": [],
      "source": [
        "sam.show_masks(cmap=\"binary_r\")"
      ]
    },
    {
      "cell_type": "code",
      "execution_count": null,
      "metadata": {
        "id": "qjg7gH0-fWz4"
      },
      "outputs": [],
      "source": [
        "sam.show_anns(axis=\"off\", opacity=1, output=\"annotations2.tif\")"
      ]
    },
    {
      "cell_type": "markdown",
      "metadata": {
        "id": "Zh8fFz9EfWz5"
      },
      "source": [
        "Compare images with a slider."
      ]
    },
    {
      "cell_type": "code",
      "execution_count": null,
      "metadata": {
        "id": "P7CW907OfWz5"
      },
      "outputs": [],
      "source": [
        "leafmap.image_comparison(\n",
        "    image,\n",
        "    \"annotations.tif\",\n",
        "    label1=\"Image\",\n",
        "    label2=\"Image Segmentation\",\n",
        ")"
      ]
    },
    {
      "cell_type": "markdown",
      "metadata": {
        "id": "5XcQ94D6fWz5"
      },
      "source": [
        "Overlay the annotations on the image and use the slider to change the opacity interactively."
      ]
    },
    {
      "cell_type": "code",
      "execution_count": null,
      "metadata": {
        "id": "x5_53LnrfWz5"
      },
      "outputs": [],
      "source": [
        "overlay_images(image, \"annotations2.tif\", backend=\"TkAgg\")"
      ]
    },
    {
      "cell_type": "markdown",
      "metadata": {
        "id": "KYWkNyqkfWz5"
      },
      "source": [
        "![](https://i.imgur.com/I1IhDgz.gif)"
      ]
    }
  ],
  "metadata": {
    "kernelspec": {
      "display_name": "ArcGISPro",
      "language": "Python",
      "name": "python3"
    },
    "language_info": {
      "codemirror_mode": {
        "name": "ipython",
        "version": 3
      },
      "file_extension": ".py",
      "mimetype": "text/x-python",
      "name": "python",
      "nbconvert_exporter": "python",
      "pygments_lexer": "ipython3",
      "version": "3.9.16"
    },
    "colab": {
      "provenance": []
    }
  },
  "nbformat": 4,
  "nbformat_minor": 0
}